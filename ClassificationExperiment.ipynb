{
 "cells": [
  {
   "cell_type": "code",
   "execution_count": 19,
   "metadata": {
    "collapsed": true
   },
   "outputs": [],
   "source": [
    "import numpy as np\n",
    "from sklearn.datasets import load_svmlight_file\n",
    "from sklearn.model_selection import train_test_split\n",
    "import matplotlib.pyplot as plt\n",
    "%matplotlib inline"
   ]
  },
  {
   "cell_type": "code",
   "execution_count": 20,
   "metadata": {},
   "outputs": [
    {
     "name": "stdout",
     "output_type": "stream",
     "text": [
      "(14, 552) (1, 552)\n"
     ]
    }
   ],
   "source": [
    "# 加载数据集\n",
    "X_orig,y_orig = load_svmlight_file('data/australian_scale') # data from https://www.csie.ntu.edu.tw/~cjlin/libsvmtools/datasets/binary.html#australian\n",
    "\n",
    "# 划分数据集\n",
    "X_train_orig, X_val_orig, y_train_orig, y_val_orig = train_test_split(X_orig, y_orig, test_size=0.2)\n",
    "\n",
    "# 转换为列向量\n",
    "X_train = X_train_orig.T.toarray()\n",
    "X_val = X_val_orig.T.toarray()\n",
    "y_train = np.reshape(y_train_orig,(1,y_train_orig.shape[0]))\n",
    "y_val = np.reshape(y_val_orig,(1,y_val_orig.shape[0]))\n",
    "print(X_train.shape,y_train.shape)"
   ]
  },
  {
   "cell_type": "code",
   "execution_count": 21,
   "metadata": {
    "collapsed": true
   },
   "outputs": [],
   "source": [
    "# 用零初始化参数\n",
    "def init_parameters_with_zeros(dim):\n",
    "    W = np.zeros((dim,1))\n",
    "    b = 0\n",
    "    return W,b"
   ]
  },
  {
   "cell_type": "code",
   "execution_count": 22,
   "metadata": {
    "collapsed": true
   },
   "outputs": [],
   "source": [
    "# 前向传播和反向传播\n",
    "def propagate(C,W,b,X,Y):\n",
    "    m = X.shape[1]\n",
    "\n",
    "    # 前向传播\n",
    "    A = np.dot(W.T,X)+b\n",
    "    \n",
    "    # 计算cost\n",
    "#     cost = np.sum(np.square(A-Y))/m\n",
    "    cost = np.sum(np.square(W))/2 + C*np.sum(np.maximum(0,1-Y*(np.dot(W.T,X)+b)))/m\n",
    "    \n",
    "    # 反向传播\n",
    "#     filt = np.zeros(Y.shape)\n",
    "#     filt[(1-Y*(np.dot(W.T,X)+b))>0]=1\n",
    "    filt = (1-Y*(np.dot(W.T,X)+b))>0\n",
    "#     tmp = tmp.reshape(tmp.shape[1])\n",
    "#     print(tmp.shape)\n",
    "#     print((np.sum(Y*X*filt,axis=0)).shape)\n",
    "#     print((np.sum(Y*X,axis=0)*filt).shape)\n",
    "#     print(W.shape,(np.sum(Y*X,axis=0)*filt).shape,'x')\n",
    "#     print('W.shape',W.shape)\n",
    "#     print('X.shape',X.shape\n",
    "#     print('Y.shape',Y.shape,'X.shape',X.shape,'filt.shape',filt.shape)\n",
    "#     print((C*np.dot(Y*filt,X.T)/m).shape)\n",
    "    dW = W - C*np.dot(Y*filt,X.T).T/m\n",
    "    db = -C*np.sum(Y*filt*b)/m\n",
    "#     dW = np.dot(X,(A-Y).T)*2/m\n",
    "#     db = np.sum(2*(A-Y))/m\n",
    "    return cost,dW,db"
   ]
  },
  {
   "cell_type": "code",
   "execution_count": 23,
   "metadata": {
    "collapsed": true
   },
   "outputs": [],
   "source": [
    "def predict(W,b,X):\n",
    "    m = X.shape[1]\n",
    "    A = np.dot(W.T,X)+b\n",
    "    Y_prediction = np.zeros((1,m))\n",
    "    Y_prediction[A>=0]=1\n",
    "    Y_prediction[A<0]=-1\n",
    "    return Y_prediction"
   ]
  },
  {
   "cell_type": "code",
   "execution_count": 29,
   "metadata": {
    "collapsed": true
   },
   "outputs": [],
   "source": [
    "def model(X_train, Y_train, X_val, Y_val,C = 1000, num_iterations = 200, learning_rate = 0.0001, print_cost = False):\n",
    "    \n",
    "    # 保存训练集和验证集上的cost、accuracy\n",
    "    train_cost_log = []\n",
    "    val_cost_log = []\n",
    "    train_accuracy_log = []\n",
    "    val_accuracy_log = []\n",
    "    \n",
    "    # 初始化参数\n",
    "    W,b = init_parameters_with_zeros(X_train.shape[0])\n",
    "    \n",
    "    for i in range(num_iterations):\n",
    "        # 进行前向传播、反向传播，计算cost和梯度\n",
    "        train_cost, dW, db = propagate(C,W,b,X_train,Y_train)\n",
    "        # 计算验证集上的cost\n",
    "        val_cost,_,_= propagate(C,W,b,X_val,Y_val)\n",
    "        \n",
    "        Y_train_prediction = predict(W,b,X_train)\n",
    "        Y_val_prediction = predict(W,b,X_val)\n",
    "        \n",
    "        \n",
    "        # 保存cost\n",
    "        train_cost_log.append(train_cost)\n",
    "        val_cost_log.append(val_cost)\n",
    "        \n",
    "        # 更新参数\n",
    "#         print(\"W.shape\",W.shape,\"dW.shape\",dW.shape)\n",
    "        W = W-learning_rate*dW\n",
    "        b = b-learning_rate*db\n",
    "        \n",
    "        if print_cost and i%10==0:\n",
    "            print (\"After iteration %i, train cost: %f, val cost : %f， train accuracy: %f %%, test accuracy: %f %%\" %(i, train_cost, val_cost, (100 - np.mean(np.abs(Y_train_prediction - Y_train)/2) * 100), (100 - np.mean(np.abs(Y_val_prediction - Y_val)/2) * 100)))\n",
    "\n",
    "    \n",
    "    return W,b,train_cost_log,val_cost_log"
   ]
  },
  {
   "cell_type": "code",
   "execution_count": 30,
   "metadata": {},
   "outputs": [
    {
     "name": "stdout",
     "output_type": "stream",
     "text": [
      "After iteration 0, train cost: 1000.000000, val cost : 1000.000000， train accuracy: 43.659420 %, test accuracy: 47.826087 %\n",
      "After iteration 10, train cost: 406.259573, val cost : 413.918449， train accuracy: 86.775362 %, test accuracy: 86.231884 %\n",
      "After iteration 20, train cost: 345.062547, val cost : 330.361209， train accuracy: 85.326087 %, test accuracy: 86.956522 %\n",
      "After iteration 30, train cost: 319.748299, val cost : 306.897129， train accuracy: 85.144928 %, test accuracy: 86.956522 %\n",
      "After iteration 40, train cost: 307.564858, val cost : 294.348615， train accuracy: 85.144928 %, test accuracy: 86.956522 %\n",
      "After iteration 50, train cost: 303.567495, val cost : 288.193861， train accuracy: 85.144928 %, test accuracy: 86.956522 %\n",
      "After iteration 60, train cost: 302.373779, val cost : 285.187588， train accuracy: 85.144928 %, test accuracy: 86.956522 %\n",
      "After iteration 70, train cost: 301.566068, val cost : 283.548322， train accuracy: 85.144928 %, test accuracy: 86.956522 %\n",
      "After iteration 80, train cost: 300.885298, val cost : 281.788958， train accuracy: 85.144928 %, test accuracy: 86.956522 %\n",
      "After iteration 90, train cost: 300.331795, val cost : 280.142226， train accuracy: 85.144928 %, test accuracy: 86.956522 %\n",
      "After iteration 100, train cost: 299.970949, val cost : 278.679113， train accuracy: 85.144928 %, test accuracy: 86.956522 %\n",
      "After iteration 110, train cost: 299.703602, val cost : 277.766591， train accuracy: 85.144928 %, test accuracy: 86.956522 %\n",
      "After iteration 120, train cost: 299.458621, val cost : 277.109933， train accuracy: 85.144928 %, test accuracy: 86.956522 %\n",
      "After iteration 130, train cost: 299.271917, val cost : 275.938757， train accuracy: 85.144928 %, test accuracy: 86.956522 %\n",
      "After iteration 140, train cost: 299.094251, val cost : 275.215966， train accuracy: 85.144928 %, test accuracy: 86.956522 %\n",
      "After iteration 150, train cost: 298.926048, val cost : 274.363133， train accuracy: 85.144928 %, test accuracy: 86.956522 %\n",
      "After iteration 160, train cost: 298.786641, val cost : 273.264236， train accuracy: 85.144928 %, test accuracy: 86.956522 %\n",
      "After iteration 170, train cost: 298.662900, val cost : 272.313175， train accuracy: 85.144928 %, test accuracy: 86.956522 %\n",
      "After iteration 180, train cost: 298.487180, val cost : 271.976457， train accuracy: 85.144928 %, test accuracy: 86.956522 %\n",
      "After iteration 190, train cost: 298.423761, val cost : 270.626387， train accuracy: 85.144928 %, test accuracy: 86.956522 %\n"
     ]
    }
   ],
   "source": [
    "_,_,train_loss_log,val_loss_log = model(X_train,y_train,X_val,y_val,print_cost=True)"
   ]
  },
  {
   "cell_type": "code",
   "execution_count": 31,
   "metadata": {},
   "outputs": [
    {
     "data": {
      "image/png": "[encoded data removed]",
      "text/plain": [
       "<matplotlib.figure.Figure at 0x7f3e3223ebe0>"
      ]
     },
     "metadata": {},
     "output_type": "display_data"
    }
   ],
   "source": [
    "# 画图\n",
    "plt.plot(train_loss_log,'r', label='train set')\n",
    "plt.plot(val_loss_log,'b', label = 'validation set')\n",
    "\n",
    "\n",
    "plt.legend() # 图例\n",
    "plt.axis([0,200,0,1500])\n",
    "plt.ylabel('loss')\n",
    "plt.xlabel('iterations')\n",
    "plt.title('Linear Classification')\n",
    "plt.show()"
   ]
  },
  {
   "cell_type": "code",
   "execution_count": null,
   "metadata": {
    "collapsed": true
   },
   "outputs": [],
   "source": []
  },
  {
   "cell_type": "code",
   "execution_count": null,
   "metadata": {
    "collapsed": true
   },
   "outputs": [],
   "source": []
  }
 ],
 "metadata": {
  "kernelspec": {
   "display_name": "Python 3",
   "language": "python",
   "name": "python3"
  },
  "language_info": {
   "codemirror_mode": {
    "name": "ipython",
    "version": 3
   },
   "file_extension": ".py",
   "mimetype": "text/x-python",
   "name": "python",
   "nbconvert_exporter": "python",
   "pygments_lexer": "ipython3",
   "version": "3.5.2"
  }
 },
 "nbformat": 4,
 "nbformat_minor": 2
}
