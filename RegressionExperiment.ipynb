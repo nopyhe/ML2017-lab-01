{
 "cells": [
  {
   "cell_type": "code",
   "execution_count": 45,
   "metadata": {
    "collapsed": true
   },
   "outputs": [],
   "source": [
    "import numpy as np\n",
    "from sklearn.datasets import load_svmlight_file\n",
    "from sklearn.model_selection import train_test_split\n",
    "import matplotlib.pyplot as plt\n",
    "%matplotlib inline"
   ]
  },
  {
   "cell_type": "code",
   "execution_count": 46,
   "metadata": {
    "scrolled": true
   },
   "outputs": [
    {
     "name": "stdout",
     "output_type": "stream",
     "text": [
      "(13, 404) (1, 404)\n"
     ]
    }
   ],
   "source": [
    "# Load dataset\n",
    "X_orig, y_orig = load_svmlight_file('data/housing_scale')\n",
    "# data from https://www.csie.ntu.edu.tw/~cjlin/libsvmtools/datasets/regression.html#housing\n",
    "\n",
    "# Divide dataset\n",
    "X_train_orig, X_val_orig, y_train_orig, y_val_orig = train_test_split(X_orig, y_orig, test_size=0.2)\n",
    "\n",
    "# Convert to column vector\n",
    "X_train = X_train_orig.T.toarray()\n",
    "X_val = X_val_orig.T.toarray()\n",
    "y_train = np.reshape(y_train_orig, (1, y_train_orig.shape[0]))\n",
    "y_val = np.reshape(y_val_orig, (1, y_val_orig.shape[0]))\n",
    "print(X_train.shape, y_train.shape)"
   ]
  },
  {
   "cell_type": "code",
   "execution_count": 47,
   "metadata": {
    "collapsed": true
   },
   "outputs": [],
   "source": [
    "# 用零初始化参数\n",
    "def init_parameters_with_zeros(dim):\n",
    "    W = np.zeros((dim, 1))\n",
    "    b = 0\n",
    "    return W, b"
   ]
  },
  {
   "cell_type": "markdown",
   "metadata": {},
   "source": [
    "# propagate\n",
    "\n",
    "forward propagate:\n",
    "$$A = W^TX+b$$\n",
    "cost function:\n",
    "$$ J(W,b) = \\frac{1}m\\sum_{i=1}^m(y_i-(W^Tx_i+b))^2 $$\n",
    "gradient:\n",
    "// $$ g_w = X*(A-Y).T $$"
   ]
  },
  {
   "cell_type": "code",
   "execution_count": 48,
   "metadata": {
    "collapsed": true
   },
   "outputs": [],
   "source": [
    "# 前向传播和反向传播\n",
    "def propagate(W, b, X, Y):\n",
    "    m = X.shape[1]\n",
    "\n",
    "    # forward propagate\n",
    "    A = np.dot(W.T, X) + b\n",
    "    # compute cost\n",
    "    cost = np.sum(np.square(A - Y)) / (2*m)\n",
    "    # propagate\n",
    "    gW = np.dot(X, (A - Y).T)/ m\n",
    "    gb = np.sum(A - Y) / m\n",
    "    return cost, gW, gb"
   ]
  },
  {
   "cell_type": "code",
   "execution_count": 49,
   "metadata": {
    "collapsed": true
   },
   "outputs": [],
   "source": [
    "def model(X_train, Y_train, X_val, Y_val, num_iterations=500, learning_rate=0.01, print_cost=False):\n",
    "\n",
    "    # 保存训练集和验证集上的cost\n",
    "    train_cost_log = []\n",
    "    val_cost_log = []\n",
    "\n",
    "    # 初始化参数\n",
    "    W, b = init_parameters_with_zeros(X_train.shape[0])\n",
    "\n",
    "    for i in range(num_iterations):\n",
    "        # 进行前向传播、反向传播，计算cost和梯度\n",
    "        train_cost, gW, gb = propagate(W, b, X_train, Y_train)\n",
    "        # 计算验证集上的cost\n",
    "        val_cost, _, _ = propagate(W, b, X_val, Y_val)\n",
    "\n",
    "        # 保存cost\n",
    "        train_cost_log.append(train_cost)\n",
    "        val_cost_log.append(val_cost)\n",
    "\n",
    "        # 更新参数\n",
    "        W = W - learning_rate * gW\n",
    "        b = b - learning_rate * gb\n",
    "\n",
    "        if print_cost and i % 100 == 0:\n",
    "            print(\"After iteration %i, train cost: %f, val cost : %f\" %\n",
    "                  (i, train_cost, val_cost))\n",
    "\n",
    "    return W, b, train_cost_log, val_cost_log"
   ]
  },
  {
   "cell_type": "code",
   "execution_count": 50,
   "metadata": {},
   "outputs": [
    {
     "name": "stdout",
     "output_type": "stream",
     "text": [
      "After iteration 0, train cost: 292.876040, val cost : 308.737745\n",
      "After iteration 100, train cost: 27.466979, val cost : 39.703740\n",
      "After iteration 200, train cost: 22.495342, val cost : 32.870234\n",
      "After iteration 300, train cost: 19.164595, val cost : 28.114881\n",
      "After iteration 400, train cost: 16.853118, val cost : 24.685679\n"
     ]
    }
   ],
   "source": [
    "_, _, train_loss_log, val_loss_log = model(X_train, y_train, X_val, y_val, print_cost=True)"
   ]
  },
  {
   "cell_type": "code",
   "execution_count": 51,
   "metadata": {},
   "outputs": [
    {
     "data": {
      "image/png": "[encoded data removed]",
      "text/plain": [
       "<matplotlib.figure.Figure at 0x7f7fae3bf278>"
      ]
     },
     "metadata": {},
     "output_type": "display_data"
    }
   ],
   "source": [
    "# 画图\n",
    "plt.plot(train_loss_log, 'r', label='train set')\n",
    "plt.plot(val_loss_log, 'b', label='validation set')\n",
    "\n",
    "plt.legend()  # 图例\n",
    "plt.axis([0, 100, 0, 330])\n",
    "plt.ylabel('loss')\n",
    "plt.xlabel('iterations')\n",
    "plt.title(r'Linear Regression $\\alpha=0.01$')\n",
    "# plt.show()\n",
    "plt.savefig('linear_regression_loss.eps', format='eps', dpi=1000)"
   ]
  },
  {
   "cell_type": "code",
   "execution_count": 52,
   "metadata": {
    "collapsed": true
   },
   "outputs": [],
   "source": [
    "# _,_,_,loss_learning_rate_03 = model(X_train,y_train,X_val,y_val,learning_rate = 0.3)\n",
    "_, _, _, loss_learning_rate_01 = model(X_train, y_train, X_val, y_val, learning_rate=0.1)\n",
    "_, _, _, loss_learning_rate_003 = model(X_train, y_train, X_val, y_val, learning_rate=0.03)\n",
    "_, _, _, loss_learning_rate_001 = model(X_train, y_train, X_val, y_val, learning_rate=0.01)\n",
    "_, _, _, loss_learning_rate_0003 = model(X_train, y_train, X_val, y_val, learning_rate=0.003)\n",
    "# _,_,_,loss_learning_rate_0001 = model(X_train,y_train,X_val,y_val,learning_rate = 0.001)\n",
    "# _,_,_,loss_learning_rate_00003 = model(X_train,y_train,X_val,y_val,learning_rate = 0.0003)\n",
    "# _,_,_,loss_learning_rate_00001 = model(X_train,y_train,X_val,y_val,learning_rate = 0.0001)"
   ]
  },
  {
   "cell_type": "code",
   "execution_count": 53,
   "metadata": {},
   "outputs": [
    {
     "data": {
      "image/png": "[encoded data removed]",
      "text/plain": [
       "<matplotlib.figure.Figure at 0x7f7fae3d85f8>"
      ]
     },
     "metadata": {},
     "output_type": "display_data"
    }
   ],
   "source": [
    "# plt.plot(loss_learning_rate_03, label='0.3')\n",
    "plt.plot(loss_learning_rate_01, label='0.1')\n",
    "plt.plot(loss_learning_rate_003, label='0.03')\n",
    "plt.plot(loss_learning_rate_001, label='0.01')\n",
    "plt.plot(loss_learning_rate_0003, label='0.003')\n",
    "# plt.plot(loss_learning_rate_0001, label='0.001')\n",
    "# plt.plot(loss_learning_rate_00003, label='0.0003')\n",
    "# plt.plot(loss_learning_rate_00001, label='0.0001')\n",
    "\n",
    "plt.legend(title='learning rate')\n",
    "plt.axis([0, 250, 0, 330])\n",
    "plt.ylabel('loss')\n",
    "plt.xlabel('iterations')\n",
    "plt.title('Linear Regression with Different Learning Rate')\n",
    "# plt.show()\n",
    "plt.savefig('linear_regression_loss_with_different_learning_rate.eps', format='eps', dpi=1000)"
   ]
  },
  {
   "cell_type": "code",
   "execution_count": null,
   "metadata": {
    "collapsed": true
   },
   "outputs": [],
   "source": []
  },
  {
   "cell_type": "code",
   "execution_count": null,
   "metadata": {
    "collapsed": true
   },
   "outputs": [],
   "source": []
  }
 ],
 "metadata": {
  "kernelspec": {
   "display_name": "Python 3",
   "language": "python",
   "name": "python3"
  },
  "language_info": {
   "codemirror_mode": {
    "name": "ipython",
    "version": 3
   },
   "file_extension": ".py",
   "mimetype": "text/x-python",
   "name": "python",
   "nbconvert_exporter": "python",
   "pygments_lexer": "ipython3",
   "version": "3.5.2"
  }
 },
 "nbformat": 4,
 "nbformat_minor": 2
}
