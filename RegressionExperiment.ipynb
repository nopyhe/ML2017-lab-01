{
 "cells": [
  {
   "cell_type": "code",
   "execution_count": 1,
   "metadata": {
    "collapsed": true
   },
   "outputs": [],
   "source": [
    "import numpy as np\n",
    "from sklearn.datasets import load_svmlight_file\n",
    "from sklearn.model_selection import train_test_split\n",
    "import matplotlib.pyplot as plt\n",
    "%matplotlib inline"
   ]
  },
  {
   "cell_type": "code",
   "execution_count": 2,
   "metadata": {
    "scrolled": true
   },
   "outputs": [
    {
     "name": "stdout",
     "output_type": "stream",
     "text": [
      "(13, 404) (1, 404)\n"
     ]
    }
   ],
   "source": [
    "# 加载数据集\n",
    "X_orig,y_orig = load_svmlight_file('data/housing_scale') # data from https://www.csie.ntu.edu.tw/~cjlin/libsvmtools/datasets/regression.html#housing\n",
    "\n",
    "# 划分数据集\n",
    "X_train_orig, X_val_orig, y_train_orig, y_val_orig = train_test_split(X_orig, y_orig, test_size=0.2)\n",
    "\n",
    "# 转换为列向量\n",
    "X_train = X_train_orig.T.toarray()\n",
    "X_val = X_val_orig.T.toarray()\n",
    "y_train = np.reshape(y_train_orig,(1,y_train_orig.shape[0]))\n",
    "y_val = np.reshape(y_val_orig,(1,y_val_orig.shape[0]))\n",
    "print(X_train.shape,y_train.shape)"
   ]
  },
  {
   "cell_type": "code",
   "execution_count": 3,
   "metadata": {
    "collapsed": true
   },
   "outputs": [],
   "source": [
    "# 用零初始化参数\n",
    "def init_parameters_with_zeros(dim):\n",
    "    W = np.zeros((dim,1))\n",
    "    b = 0\n",
    "    return W,b"
   ]
  },
  {
   "cell_type": "code",
   "execution_count": 4,
   "metadata": {},
   "outputs": [],
   "source": [
    "# 前向传播和反向传播\n",
    "def propagate(W,b,X,Y):\n",
    "    m = X.shape[1]\n",
    "\n",
    "    # 前向传播\n",
    "    A = np.dot(W.T,X)+b\n",
    "    # 计算cost\n",
    "    cost = np.sum(np.square(A-Y))/m\n",
    "    \n",
    "    # 反向传播\n",
    "    dW = np.dot(X,(A-Y).T)*2/m\n",
    "    db = np.sum(2*(A-Y))/m\n",
    "    return cost,dW,db"
   ]
  },
  {
   "cell_type": "code",
   "execution_count": 5,
   "metadata": {},
   "outputs": [],
   "source": [
    "def model(X_train, Y_train, X_val, Y_val, num_iterations = 2000, learning_rate = 0.01, print_cost = False):\n",
    "    \n",
    "    # 保存训练集和验证集上的cost\n",
    "    train_cost_log = []\n",
    "    val_cost_log = []\n",
    "    \n",
    "    # 初始化参数\n",
    "    W,b = init_parameters_with_zeros(X_train.shape[0])\n",
    "    \n",
    "    for i in range(num_iterations):\n",
    "        # 进行前向传播、反向传播，计算cost和梯度\n",
    "        train_cost, dW, db = propagate(W,b,X_train,Y_train)\n",
    "        # 计算验证集上的cost\n",
    "        val_cost,_,_= propagate(W,b,X_val,Y_val)\n",
    "        \n",
    "        # 保存cost\n",
    "        train_cost_log.append(train_cost)\n",
    "        val_cost_log.append(val_cost)\n",
    "        \n",
    "        # 更新参数\n",
    "        W = W-learning_rate*dW\n",
    "        b = b-learning_rate*db\n",
    "        \n",
    "        if print_cost and i%100==0:\n",
    "            print (\"After iteration %i, train cost: %f, val cost : %f\" %(i, train_cost, val_cost))\n",
    "    \n",
    "    return W,b,train_cost_log,val_cost_log"
   ]
  },
  {
   "cell_type": "code",
   "execution_count": 6,
   "metadata": {},
   "outputs": [
    {
     "name": "stdout",
     "output_type": "stream",
     "text": [
      "After iteration 0, train cost: 605.629851, val cost : 538.743922\n",
      "After iteration 100, train cost: 50.477765, val cost : 35.276338\n",
      "After iteration 200, train cost: 37.683067, val cost : 24.214855\n",
      "After iteration 300, train cost: 31.660177, val cost : 19.173739\n",
      "After iteration 400, train cost: 28.704165, val cost : 16.734147\n",
      "After iteration 500, train cost: 27.173460, val cost : 15.480710\n",
      "After iteration 600, train cost: 26.326043, val cost : 14.786853\n",
      "After iteration 700, train cost: 25.819665, val cost : 14.368749\n",
      "After iteration 800, train cost: 25.492454, val cost : 14.094585\n",
      "After iteration 900, train cost: 25.265354, val cost : 13.901059\n",
      "After iteration 1000, train cost: 25.098157, val cost : 13.756373\n",
      "After iteration 1100, train cost: 24.969372, val cost : 13.643604\n",
      "After iteration 1200, train cost: 24.866834, val cost : 13.553110\n",
      "After iteration 1300, train cost: 24.783222, val cost : 13.478987\n",
      "After iteration 1400, train cost: 24.713853, val cost : 13.417360\n",
      "After iteration 1500, train cost: 24.655558, val cost : 13.365533\n",
      "After iteration 1600, train cost: 24.606090, val cost : 13.321545\n",
      "After iteration 1700, train cost: 24.563791, val cost : 13.283915\n",
      "After iteration 1800, train cost: 24.527400, val cost : 13.251504\n",
      "After iteration 1900, train cost: 24.495932, val cost : 13.223413\n"
     ]
    }
   ],
   "source": [
    "_,_,train_loss_log,val_loss_log = model(X_train,y_train,X_val,y_val,print_cost=True)"
   ]
  },
  {
   "cell_type": "code",
   "execution_count": 7,
   "metadata": {},
   "outputs": [
    {
     "data": {
      "image/png": "[encoded data removed]",
      "text/plain": [
       "<matplotlib.figure.Figure at 0x7fd23011dac8>"
      ]
     },
     "metadata": {},
     "output_type": "display_data"
    }
   ],
   "source": [
    "# 画图\n",
    "plt.plot(train_loss_log,'r', label='train set')\n",
    "plt.plot(val_loss_log,'b', label = 'validation set')\n",
    "\n",
    "\n",
    "plt.legend() # 图例\n",
    "plt.axis([0,100,0,610])\n",
    "plt.ylabel('loss')\n",
    "plt.xlabel('iterations')\n",
    "plt.title('Linear Regression')\n",
    "plt.show()"
   ]
  }
 ],
 "metadata": {
  "kernelspec": {
   "display_name": "Python 3",
   "language": "python",
   "name": "python3"
  },
  "language_info": {
   "codemirror_mode": {
    "name": "ipython",
    "version": 3
   },
   "file_extension": ".py",
   "mimetype": "text/x-python",
   "name": "python",
   "nbconvert_exporter": "python",
   "pygments_lexer": "ipython3",
   "version": "3.5.2"
  }
 },
 "nbformat": 4,
 "nbformat_minor": 2
}
